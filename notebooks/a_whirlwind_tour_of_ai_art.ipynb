{
 "cells": [
  {
   "cell_type": "code",
   "execution_count": 11,
   "metadata": {
    "colab": {
     "autoexec": {
      "startup": false,
      "wait_interval": 0
     },
     "base_uri": "https://localhost:8080/",
     "height": 88,
     "resources": {
      "http://localhost:8080/nbextensions/google.colab/files.js": {
       "data": "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",
       "headers": [
        [
         "content-type",
         "application/javascript"
        ]
       ],
       "ok": true,
       "status": 200,
       "status_text": ""
      }
     }
    },
    "colab_type": "code",
    "executionInfo": {
     "elapsed": 127819,
     "status": "ok",
     "timestamp": 1524114709243,
     "user": {
      "displayName": "Andrew Look",
      "photoUrl": "//lh3.googleusercontent.com/-LhlYO46Odes/AAAAAAAAAAI/AAAAAAABzxE/TJIS_AWkFrQ/s50-c-k-no/photo.jpg",
      "userId": "112686565405597610175"
     },
     "user_tz": 420
    },
    "id": "1g7uMnokMvgB",
    "outputId": "1ad3dcf6-298d-42d0-cfd8-f8d9eaad65fb",
    "slideshow": {
     "slide_type": "skip"
    }
   },
   "outputs": [
    {
     "data": {
      "text/html": [
       "\n",
       "     <input type=\"file\" id=\"files-5a7b226b-a26d-4faf-ad46-dc64e02721a7\" name=\"files[]\" multiple disabled />\n",
       "     <output id=\"result-5a7b226b-a26d-4faf-ad46-dc64e02721a7\">\n",
       "      Upload widget is only available when the cell has been executed in the\n",
       "      current browser session. Please rerun this cell to enable.\n",
       "      </output>\n",
       "      <script src=\"/nbextensions/google.colab/files.js\"></script> "
      ],
      "text/plain": [
       "<IPython.core.display.HTML object>"
      ]
     },
     "metadata": {
      "tags": []
     },
     "output_type": "display_data"
    },
    {
     "name": "stdout",
     "output_type": "stream",
     "text": [
      "Saving startup_dinner_closeup.jpg to startup_dinner_closeup.jpg\n",
      "User uploaded file \"startup_dinner_closeup.jpg\" with length 1577030 bytes\n"
     ]
    }
   ],
   "source": [
    "from google.colab import files\n",
    "uploaded = files.upload()\n",
    "for fn in uploaded.keys():\n",
    "  print('User uploaded file \"{name}\" with length {length} bytes'.format(\n",
    "      name=fn, length=len(uploaded[fn])))"
   ]
  },
  {
   "cell_type": "markdown",
   "metadata": {
    "colab_type": "text",
    "id": "8h5oaxPEM0Gv",
    "slideshow": {
     "slide_type": "slide"
    }
   },
   "source": [
    "# A Whirlwind Tour of AI Art\n",
    "#### by Andrew Look\n",
    "\n",
    "\n"
   ]
  },
  {
   "cell_type": "markdown",
   "metadata": {
    "colab_type": "text",
    "id": "JO-iMNIcNHA6",
    "slideshow": {
     "slide_type": "slide"
    }
   },
   "source": [
    "# You Are Here Because:\n",
    "\n",
    "- You have creative and artistic tendencies\n",
    "- You’re interested in AI and how it relates to the creative process\n",
    "- You're curious about using art as a means of exploring AI and its implications for society, the individual, and the nature of consciousness."
   ]
  },
  {
   "cell_type": "markdown",
   "metadata": {
    "colab_type": "text",
    "id": "xqEJVi2ROQNf",
    "slideshow": {
     "slide_type": "fragment"
    }
   },
   "source": [
    "# After reading this, you'll understand\n",
    "\n",
    "- How using AI art tools can *augment* your creativity\n",
    "- Just enough AI tools, concepts, and aesthetic options to make your own art\n",
    "- Deeper aesthetic control for one particular technique (deepdreams)\n",
    "- How to use cloud tools to streamline the creative coding process"
   ]
  },
  {
   "cell_type": "markdown",
   "metadata": {
    "colab_type": "text",
    "id": "cquAJxSgP1ST",
    "slideshow": {
     "slide_type": "fragment"
    }
   },
   "source": [
    "# About Me\n",
    "\n",
    "I'm Andrew Look, ML engineer on the Knowledge team at Pinterest.\n",
    "\n",
    "I work on building classifier algorithms to look at each pin and determine its Taste Graph Interests.\n",
    "\n",
    "I started painting as a stress-relief hobby from startup life pre-Pinterest.\n"
   ]
  },
  {
   "cell_type": "markdown",
   "metadata": {
    "colab_type": "text",
    "id": "d8ZITa1CYptd",
    "slideshow": {
     "slide_type": "slide"
    }
   },
   "source": [
    "# Brief Disclaimer\n",
    "\n",
    "**I'm not a real expert on computer vision or art**\n",
    "- Just someone who happens to dabbles in both\n",
    "- Will do my best to connect the dots\n",
    "- AI art is nascent and ill-defined, so I'll describe what I've learned about it\n",
    "\n",
    "**For those more familiar with AI**\n",
    "- My goal is to convey just enough AI for a broader audience to understand how it affects artistic applications\n",
    "- I plan on making some broad generalizations in the interests of brevity.\n",
    "- If you're interested in the technical details, I'll have resources for you afterwards!"
   ]
  },
  {
   "cell_type": "markdown",
   "metadata": {
    "colab_type": "text",
    "id": "SKQmthNnl3aJ",
    "slideshow": {
     "slide_type": "slide"
    }
   },
   "source": [
    "# Some Terminology"
   ]
  },
  {
   "cell_type": "markdown",
   "metadata": {
    "colab_type": "text",
    "id": "7HUeGtaUZ13_",
    "slideshow": {
     "slide_type": "slide"
    }
   },
   "source": [
    "## What is AI, anyways?\n",
    "\n",
    "Artificial Intelligence is tough to define clearly, but most mentions of it fall into one of two categories:\n",
    "- **General AI**: The futuristic aspiration of computers that experience consciousness\n",
    "- **Specialized AI**: Systems using statistics to learn patterns from data in order to make predictions."
   ]
  },
  {
   "cell_type": "markdown",
   "metadata": {
    "colab_type": "text",
    "id": "p7TKzPwGkmQD",
    "slideshow": {
     "slide_type": "slide"
    }
   },
   "source": [
    "## What kind of AI are we focusing on today?\n",
    "\n",
    "Specialized AI, also known as **Machine Learning**.\n",
    "\n",
    "We'll be focused on artistic applications of techniques that have sprung out of research into algorithms that are more relevant to the AI that affects our lives.\n",
    "\n",
    "Sorry to disappoint, but this tutorial won't cover robots that paint:\n",
    "\n",
    "![not this](https://media.giphy.com/media/8P7fmIpUYBwHgjo322/giphy.gif)\n",
    "\n",
    "Source: Deepmind [blog](https://deepmind.com/blog/learning-to-generate-images/) [pdf](https://deepmind.com/documents/183/SPIRAL.pdf) [youtube](https://www.youtube.com/watch?v=iSyvwAwa7vk)"
   ]
  },
  {
   "cell_type": "markdown",
   "metadata": {
    "colab_type": "text",
    "id": "OofWioTqm3oP",
    "slideshow": {
     "slide_type": "slide"
    }
   },
   "source": [
    "## OK, so what is ML?\n",
    "\n",
    "Machine Learning refers to a type of algorithm that \"learns\" to recognize patterns and relationships from \"training data\", in order to make predictions.\n",
    "\n",
    "### A Simple Example\n",
    "\n",
    "Imagine we want to predict housing prices.\n",
    "\n",
    "We'd probably start with a spreadsheet of prices we know to be true, alongside features for each house that we expect to be related to the price.\n",
    "\n",
    "If we plot price vs. size on this toy dataset, we can start to see a slope:\n",
    "\n",
    "![housepricestable](https://cdn-images-1.medium.com/max/1280/1*TE_oNKRRek5io8v_-uZ9PQ.png) ![housepricesscatter](https://cdn-images-1.medium.com/max/1280/1*HUJzcLczeBFRdPPZ5HMcbw.png)\n",
    "\n",
    "Source: [medium.com/@kabab](https://medium.com/@kabab/linear-regression-with-python-d4e10887ca43)"
   ]
  },
  {
   "cell_type": "markdown",
   "metadata": {
    "colab_type": "text",
    "id": "lvACaPP0m38Q",
    "slideshow": {
     "slide_type": "slide"
    }
   },
   "source": [
    "### Predicting price using the house size\n",
    "\n",
    "If we were to draw a line through these points, the \"slope\" would be what you multiply the `size` by in order to get the `price` (plus a \"bias\" term, if the slope doesn't meet the Y-axis right at zero).\n",
    "\n",
    "The **objective** of an ML algorithm is to find a line to draw through these points that **minimizes the error** in its predictions.\n",
    "\n",
    "You can visualize the **error** as the distance from each real data point's `Y` coordinate to the **prediction**: the line's value at the corresponding `X` coordinate.\n",
    "\n",
    "![errorbars](https://cdn-images-1.medium.com/max/1280/1*iBDH0gBBJNs-oLqUT17yng.png)"
   ]
  },
  {
   "cell_type": "markdown",
   "metadata": {
    "colab_type": "text",
    "id": "jJ2oTO0xm4LI",
    "slideshow": {
     "slide_type": "slide"
    }
   },
   "source": [
    "### What \"Learning\" Means\n",
    "\n",
    "The way ML algorithms \"learn\" by using data is defined by their **objective**.\n",
    "\n",
    "In this case, they can start with a proposed line to draw, calculate the error, and make a next guess about what the best line could be.\n",
    "\n",
    "This process gets repeated, and if everything goes according to plan, the errors decrease.\n",
    "\n",
    "![iterativelearning](https://cdn-images-1.medium.com/max/1280/1*xc5CSmK9d8oeKYxKxenEGg.gif)"
   ]
  },
  {
   "cell_type": "markdown",
   "metadata": {
    "colab_type": "text",
    "id": "gGDj_ThSm4Xx",
    "slideshow": {
     "slide_type": "slide"
    }
   },
   "source": [
    "## What is art?\n",
    "\n",
    "Out of respect to artists everywhere, I'm not going to try to define it comprehensively.\n",
    "\n",
    "What's relevant here is that art can be defined by whoever is creating it.\n",
    "\n",
    "![duchamp](https://upload.wikimedia.org/wikipedia/commons/f/f6/Duchamp_Fountaine.jpg)\n",
    "\n",
    "*\"Fountain,\" Marcel Duchamp, 1917* Source: [wikipedia](https://en.wikipedia.org/wiki/Marcel_Duchamp)"
   ]
  },
  {
   "cell_type": "markdown",
   "metadata": {
    "colab_type": "text",
    "id": "id2SBx_-m4jo",
    "slideshow": {
     "slide_type": "slide"
    }
   },
   "source": [
    "## Technology and Art\n",
    "\n",
    "It's often the glitchy parts of new technologies that we as humans find most compelling.\n",
    "\n",
    "As Brian Eno [said](https://www.goodreads.com/quotes/649039-whatever-you-now-find-weird-ugly-uncomfortable-and-nasty-about):\n",
    "\n",
    "> *“Whatever you now find weird, ugly, uncomfortable, and nasty about a new medium will surely become its signature.*\n",
    "\n",
    "> *CD distortion, the jitteriness of digital video, the crap sound of 8-bit, all of these will be cherished and emulated as soon as they can be avoided. It’s the sound of failure.*\n",
    "\n",
    "> *So much modern art is the sound of things going out of control. Out of a medium, pushing to its limits and breaking apart.”*\n",
    "\n",
    "<!-- https://blog.ycombinator.com/making-music-and-art-through-machine-learning-doug-eck-of-magenta/ -->\n",
    "\n",
    "![eigenfaces](https://courses.cs.washington.edu/courses/cse576/13sp/images/eigenfaces.png) \n",
    "[source](https://courses.cs.washington.edu/courses/cse576/13sp/projects/project3/)\n"
   ]
  },
  {
   "cell_type": "markdown",
   "metadata": {
    "colab_type": "text",
    "id": "DcdBl1n5zTvY",
    "slideshow": {
     "slide_type": "slide"
    }
   },
   "source": [
    "## So what does AI have to do with art?\n",
    "\n",
    "### The Glitches\n",
    "\n",
    "It's often when researchers look closely at the bugs and try to debug them that we end up with interesting visual artifacts, and the tools to create them.\n",
    "\n",
    "The previous image was a visualization of [Eigenfaces](http://www.cs.ucsb.edu/~mturk/Papers/mturk-CVPR91.pdf), which sought to \"learn\" how to represent faces in a \"latent space\".\n",
    "\n",
    "![facespace](https://onionesquereality.files.wordpress.com/2009/02/face_space.jpg)"
   ]
  },
  {
   "cell_type": "markdown",
   "metadata": {
    "colab_type": "text",
    "id": "PIGc3zQn3GPM",
    "slideshow": {
     "slide_type": "slide"
    }
   },
   "source": [
    "### What we all have in common\n",
    "\n",
    "You can think of Eigenfaces as a way of **compressing the meaning** of the image by looking for visual commonalities across a series of images.\n",
    "\n",
    "An algorithm trying to interpret a face shouldn't have to look at each individual pixel.\n",
    "\n",
    "If you squint your eyes, you can usually still make out whether you're looking at someone familiar, right?\n",
    "\n",
    "In this case, the researchers behind Eigenfaces wanted to \"decompose\" images of faces into their essential components, so that algorithms could deal directly with those abstract \"components\" rather than looking at every single pixel. <!-- (using the [Eigenvectors](https://en.wikipedia.org/wiki/Eigenvalues_and_eigenvectors), hence the name). -->\n",
    "\n",
    "![sumfaces](https://onionesquereality.files.wordpress.com/2009/02/eigenfaces-reconstruction.jpg)\n",
    "\n",
    "[source](https://onionesquereality.wordpress.com/2009/02/11/face-recognition-using-eigenfaces-and-distance-classifiers-a-tutorial/)"
   ]
  },
  {
   "cell_type": "markdown",
   "metadata": {
    "colab_type": "text",
    "id": "rsABN0S94cGa",
    "slideshow": {
     "slide_type": "skip"
    }
   },
   "source": []
  },
  {
   "cell_type": "markdown",
   "metadata": {
    "colab_type": "text",
    "id": "vJe04Lhw4cRk",
    "slideshow": {
     "slide_type": "skip"
    }
   },
   "source": []
  },
  {
   "cell_type": "markdown",
   "metadata": {
    "colab_type": "text",
    "id": "hyu_UDHX4cc6",
    "slideshow": {
     "slide_type": "skip"
    }
   },
   "source": []
  },
  {
   "cell_type": "markdown",
   "metadata": {
    "colab_type": "text",
    "id": "cXJ_wTMu4cnq",
    "slideshow": {
     "slide_type": "skip"
    }
   },
   "source": []
  },
  {
   "cell_type": "markdown",
   "metadata": {
    "colab_type": "text",
    "id": "VjbtE1SS4cyr",
    "slideshow": {
     "slide_type": "skip"
    }
   },
   "source": []
  },
  {
   "cell_type": "markdown",
   "metadata": {
    "colab_type": "text",
    "id": "pM0juYZu4c9z",
    "slideshow": {
     "slide_type": "skip"
    }
   },
   "source": []
  },
  {
   "cell_type": "markdown",
   "metadata": {
    "colab_type": "text",
    "id": "rH0i1mgF4dIT",
    "slideshow": {
     "slide_type": "skip"
    }
   },
   "source": []
  },
  {
   "cell_type": "markdown",
   "metadata": {
    "colab_type": "text",
    "id": "1Hku8kbNU0pn",
    "slideshow": {
     "slide_type": "slide"
    }
   },
   "source": [
    "## How I got into AI art\n",
    "\n",
    "I started getting serious about learning ML sometime after starting to paint.\n",
    "\n",
    "I took an art class about \"Personal Narrative,\" and we needed to make a past / present series of still life paintings.\n",
    "\n",
    "I started with a \"present\" painting, which I called \"startup dinner\" (a joking reference to my somewhat unhealthy eating habits left over from pre-Pinterest life).\n",
    "\n",
    "![startup_dinner](https://lh3.googleusercontent.com/GznHwRqvdYWzoju9ND-vi4yXrbGGYPwjqW4gajOcz8Po4RTF1rGI3PrJlCIA4OZQRbw7klE4rBagDRs-HXxpvN5ldqfj4J-sAlziBSwOK_ZcNP5RtZyRwXRP2SWuJgBog1jHH-rmwBRC5ec_lxeT1VNqND21iAVCak547gQffAOa6jGWZC2-6CecRw-thU8pt3c9i-9v8c-unAJ645_ni5CSHQYIsIki5cOBaUBAllbh4pcRGHwnN-wsvmpmIb2sSW_NLSe4RSGnNj163N3vcvU9jMq-NMiNBxVnY4DWJGR4C4mG22Xr_Xp6R6N5m_j-Z3vjU2XMevUEJbuaweP4X8rksBEsAJ_5acPeyL2l8mQuzeYUyfuuPpHE7U8OA3DbWuGBf7UKGg8IheaDB4_QmMnPIsT3rZ49aOGRtIZ_TBGvmqSBnU-0GuzukASTjitd4BVi_v7Oa8B2O7hWZhmflv2u2S-UNtkDE6hWeyZXs3UnMjhjbyy1HicNTEDita-JcwtgENJkfXFKaCJnb9wfMBgSdLiNScKzMXe_xz_z50IwDBZvoyHsj7KHHjsiOcmEy0AKnrqDvmk4OyXsEKe_X1854op0AsrwICw3V6CW-Z98UbgRLg75cP6ss1L7tVKRj1-DDMz-GJOjlxullRygCB0q7BADx0e_NA=w494-h658-no)\n"
   ]
  },
  {
   "cell_type": "markdown",
   "metadata": {
    "colab_type": "text",
    "id": "fGZ3RWDEWCUi",
    "slideshow": {
     "slide_type": "slide"
    }
   },
   "source": [
    "When we were asked to make a painting of the \"past,\" the prompt was to make it \"nightmarish.\"\n",
    "\n",
    "I had another photo chosen already, which i jokingly titled \"startup breakfast\".\n",
    "\n",
    "The only problem was, I didn't know how to make a dream effect.\n",
    "\n",
    "<startup breakfast reference img>\n",
    "![]()\n",
    "\n"
   ]
  },
  {
   "cell_type": "markdown",
   "metadata": {
    "colab_type": "text",
    "id": "0l0ams2TXjzX",
    "slideshow": {
     "slide_type": "fragment"
    }
   },
   "source": [
    "\n",
    "Coincidentally, code for making deepdreams had just been [announced by Google Research](https://research.googleblog.com/2015/06/inceptionism-going-deeper-into-neural.html).\n",
    "\n"
   ]
  },
  {
   "cell_type": "markdown",
   "metadata": {
    "colab_type": "text",
    "id": "fogmlme6XoS0",
    "slideshow": {
     "slide_type": "skip"
    }
   },
   "source": []
  },
  {
   "cell_type": "code",
   "execution_count": 0,
   "metadata": {
    "colab": {
     "autoexec": {
      "startup": false,
      "wait_interval": 0
     }
    },
    "colab_type": "code",
    "id": "68kfQKhhOPWf",
    "slideshow": {
     "slide_type": "skip"
    }
   },
   "outputs": [],
   "source": []
  },
  {
   "cell_type": "code",
   "execution_count": 9,
   "metadata": {
    "colab": {
     "autoexec": {
      "startup": false,
      "wait_interval": 0
     },
     "base_uri": "https://localhost:8080/",
     "height": 34
    },
    "colab_type": "code",
    "executionInfo": {
     "elapsed": 2013,
     "status": "ok",
     "timestamp": 1524114499606,
     "user": {
      "displayName": "Andrew Look",
      "photoUrl": "//lh3.googleusercontent.com/-LhlYO46Odes/AAAAAAAAAAI/AAAAAAABzxE/TJIS_AWkFrQ/s50-c-k-no/photo.jpg",
      "userId": "112686565405597610175"
     },
     "user_tz": 420
    },
    "id": "2NX8URbiTQkF",
    "outputId": "5d2d0c99-7efb-43fe-a7f0-3f78fad11727",
    "slideshow": {
     "slide_type": "skip"
    }
   },
   "outputs": [
    {
     "data": {
      "text/plain": [
       "4"
      ]
     },
     "execution_count": 9,
     "metadata": {
      "tags": []
     },
     "output_type": "execute_result"
    }
   ],
   "source": [
    "\n",
    "\n",
    "\n",
    "from IPython import display as ipyd\n",
    "ipyd.Image(filename='startup_dinner_closeup.jpg', width=600)\n"
   ]
  },
  {
   "cell_type": "code",
   "execution_count": 0,
   "metadata": {
    "colab": {
     "autoexec": {
      "startup": false,
      "wait_interval": 0
     }
    },
    "colab_type": "code",
    "id": "KD7pB75-TUOz",
    "slideshow": {
     "slide_type": "skip"
    }
   },
   "outputs": [],
   "source": []
  }
 ],
 "metadata": {
  "celltoolbar": "Slideshow",
  "colab": {
   "collapsed_sections": [],
   "default_view": {},
   "name": "a_whirlwind_tour_of_ai_art.ipynb",
   "provenance": [],
   "version": "0.3.2",
   "views": {}
  },
  "kernelspec": {
   "display_name": "Python 2",
   "language": "python",
   "name": "python2"
  },
  "language_info": {
   "codemirror_mode": {
    "name": "ipython",
    "version": 2
   },
   "file_extension": ".py",
   "mimetype": "text/x-python",
   "name": "python",
   "nbconvert_exporter": "python",
   "pygments_lexer": "ipython2",
   "version": "2.7.10"
  }
 },
 "nbformat": 4,
 "nbformat_minor": 1
}
